{
 "cells": [
  {
   "cell_type": "markdown",
   "metadata": {},
   "source": []
  },
  {
   "cell_type": "code",
   "execution_count": 2,
   "metadata": {},
   "outputs": [
    {
     "data": {
      "text/html": [
       "<div>\n",
       "<style scoped>\n",
       "    .dataframe tbody tr th:only-of-type {\n",
       "        vertical-align: middle;\n",
       "    }\n",
       "\n",
       "    .dataframe tbody tr th {\n",
       "        vertical-align: top;\n",
       "    }\n",
       "\n",
       "    .dataframe thead th {\n",
       "        text-align: right;\n",
       "    }\n",
       "</style>\n",
       "<table border=\"1\" class=\"dataframe\">\n",
       "  <thead>\n",
       "    <tr style=\"text-align: right;\">\n",
       "      <th></th>\n",
       "      <th>fever</th>\n",
       "      <th>cough</th>\n",
       "      <th>tiredness</th>\n",
       "      <th>headache</th>\n",
       "      <th>stuffy nose</th>\n",
       "      <th>runny nose</th>\n",
       "      <th>sneezing</th>\n",
       "      <th>sore throat</th>\n",
       "      <th>diagnosis</th>\n",
       "    </tr>\n",
       "  </thead>\n",
       "  <tbody>\n",
       "    <tr>\n",
       "      <th>0</th>\n",
       "      <td>1</td>\n",
       "      <td>1</td>\n",
       "      <td>1</td>\n",
       "      <td>0</td>\n",
       "      <td>0</td>\n",
       "      <td>0</td>\n",
       "      <td>0</td>\n",
       "      <td>0</td>\n",
       "      <td>covid19</td>\n",
       "    </tr>\n",
       "    <tr>\n",
       "      <th>1</th>\n",
       "      <td>0</td>\n",
       "      <td>1</td>\n",
       "      <td>1</td>\n",
       "      <td>1</td>\n",
       "      <td>0</td>\n",
       "      <td>0</td>\n",
       "      <td>0</td>\n",
       "      <td>0</td>\n",
       "      <td>covid19</td>\n",
       "    </tr>\n",
       "    <tr>\n",
       "      <th>2</th>\n",
       "      <td>1</td>\n",
       "      <td>1</td>\n",
       "      <td>1</td>\n",
       "      <td>0</td>\n",
       "      <td>0</td>\n",
       "      <td>0</td>\n",
       "      <td>0</td>\n",
       "      <td>0</td>\n",
       "      <td>covid19</td>\n",
       "    </tr>\n",
       "    <tr>\n",
       "      <th>3</th>\n",
       "      <td>1</td>\n",
       "      <td>1</td>\n",
       "      <td>1</td>\n",
       "      <td>0</td>\n",
       "      <td>0</td>\n",
       "      <td>0</td>\n",
       "      <td>0</td>\n",
       "      <td>0</td>\n",
       "      <td>covid19</td>\n",
       "    </tr>\n",
       "    <tr>\n",
       "      <th>4</th>\n",
       "      <td>1</td>\n",
       "      <td>1</td>\n",
       "      <td>1</td>\n",
       "      <td>0</td>\n",
       "      <td>0</td>\n",
       "      <td>0</td>\n",
       "      <td>0</td>\n",
       "      <td>0</td>\n",
       "      <td>covid19</td>\n",
       "    </tr>\n",
       "    <tr>\n",
       "      <th>...</th>\n",
       "      <td>...</td>\n",
       "      <td>...</td>\n",
       "      <td>...</td>\n",
       "      <td>...</td>\n",
       "      <td>...</td>\n",
       "      <td>...</td>\n",
       "      <td>...</td>\n",
       "      <td>...</td>\n",
       "      <td>...</td>\n",
       "    </tr>\n",
       "    <tr>\n",
       "      <th>1995</th>\n",
       "      <td>0</td>\n",
       "      <td>1</td>\n",
       "      <td>0</td>\n",
       "      <td>0</td>\n",
       "      <td>1</td>\n",
       "      <td>0</td>\n",
       "      <td>1</td>\n",
       "      <td>1</td>\n",
       "      <td>common cold</td>\n",
       "    </tr>\n",
       "    <tr>\n",
       "      <th>1996</th>\n",
       "      <td>0</td>\n",
       "      <td>0</td>\n",
       "      <td>0</td>\n",
       "      <td>1</td>\n",
       "      <td>1</td>\n",
       "      <td>1</td>\n",
       "      <td>1</td>\n",
       "      <td>0</td>\n",
       "      <td>common cold</td>\n",
       "    </tr>\n",
       "    <tr>\n",
       "      <th>1997</th>\n",
       "      <td>0</td>\n",
       "      <td>0</td>\n",
       "      <td>1</td>\n",
       "      <td>0</td>\n",
       "      <td>1</td>\n",
       "      <td>0</td>\n",
       "      <td>0</td>\n",
       "      <td>1</td>\n",
       "      <td>common cold</td>\n",
       "    </tr>\n",
       "    <tr>\n",
       "      <th>1998</th>\n",
       "      <td>0</td>\n",
       "      <td>0</td>\n",
       "      <td>0</td>\n",
       "      <td>0</td>\n",
       "      <td>1</td>\n",
       "      <td>0</td>\n",
       "      <td>0</td>\n",
       "      <td>1</td>\n",
       "      <td>common cold</td>\n",
       "    </tr>\n",
       "    <tr>\n",
       "      <th>1999</th>\n",
       "      <td>0</td>\n",
       "      <td>1</td>\n",
       "      <td>0</td>\n",
       "      <td>0</td>\n",
       "      <td>0</td>\n",
       "      <td>0</td>\n",
       "      <td>1</td>\n",
       "      <td>1</td>\n",
       "      <td>common cold</td>\n",
       "    </tr>\n",
       "  </tbody>\n",
       "</table>\n",
       "<p>2000 rows × 9 columns</p>\n",
       "</div>"
      ],
      "text/plain": [
       "      fever  cough  tiredness  headache  stuffy nose  runny nose  sneezing  \\\n",
       "0         1      1          1         0            0           0         0   \n",
       "1         0      1          1         1            0           0         0   \n",
       "2         1      1          1         0            0           0         0   \n",
       "3         1      1          1         0            0           0         0   \n",
       "4         1      1          1         0            0           0         0   \n",
       "...     ...    ...        ...       ...          ...         ...       ...   \n",
       "1995      0      1          0         0            1           0         1   \n",
       "1996      0      0          0         1            1           1         1   \n",
       "1997      0      0          1         0            1           0         0   \n",
       "1998      0      0          0         0            1           0         0   \n",
       "1999      0      1          0         0            0           0         1   \n",
       "\n",
       "      sore throat    diagnosis  \n",
       "0               0      covid19  \n",
       "1               0      covid19  \n",
       "2               0      covid19  \n",
       "3               0      covid19  \n",
       "4               0      covid19  \n",
       "...           ...          ...  \n",
       "1995            1  common cold  \n",
       "1996            0  common cold  \n",
       "1997            1  common cold  \n",
       "1998            1  common cold  \n",
       "1999            1  common cold  \n",
       "\n",
       "[2000 rows x 9 columns]"
      ]
     },
     "execution_count": 2,
     "metadata": {},
     "output_type": "execute_result"
    }
   ],
   "source": [
    "\n",
    "\n",
    "import pandas as pd\n",
    "\n",
    "\n",
    "medical_dataset=pd.read_csv(f'E:\\جامعه الجزيره\\ذكاء اصطناعي\\medical_data.csv') \n",
    "\n",
    "\n",
    "\n",
    "medical_dataset"
   ]
  },
  {
   "cell_type": "code",
   "execution_count": 3,
   "metadata": {},
   "outputs": [
    {
     "data": {
      "text/plain": [
       "{'allergies', 'common cold', 'covid19', 'flu'}"
      ]
     },
     "execution_count": 3,
     "metadata": {},
     "output_type": "execute_result"
    }
   ],
   "source": [
    "set(medical_dataset['diagnosis'])"
   ]
  },
  {
   "cell_type": "code",
   "execution_count": 4,
   "metadata": {},
   "outputs": [
    {
     "name": "stdout",
     "output_type": "stream",
     "text": [
      "      fever  cough  tiredness  headache  stuffy nose  runny nose  sneezing  \\\n",
      "1860      0      0          0         0            1           1         1   \n",
      "353       0      1          1         0            0           0         0   \n",
      "1333      0      0          1         1            1           1         1   \n",
      "905       1      1          1         1            1           0         0   \n",
      "1289      0      1          0         1            1           0         0   \n",
      "1273      0      0          0         1            1           1         1   \n",
      "\n",
      "      sore throat    diagnosis  \n",
      "1860            0  common cold  \n",
      "353             0      covid19  \n",
      "1333            0    allergies  \n",
      "905             0          flu  \n",
      "1289            0    allergies  \n",
      "1273            0    allergies  \n"
     ]
    }
   ],
   "source": [
    "\n",
    "#SPLIT DB  \n",
    "\n",
    "\n",
    "from sklearn.model_selection import train_test_split\n",
    "\n",
    "# use the function to split the data, get 30% for testing and 70% for training.\n",
    "train_data, test_data = train_test_split(medical_dataset, test_size=0.003, random_state=42)\n",
    "\n",
    "#print the shapes (rows x columns) of the two datasets\n",
    "#print(train_data)\n",
    "print(test_data)"
   ]
  },
  {
   "cell_type": "code",
   "execution_count": 5,
   "metadata": {},
   "outputs": [
    {
     "data": {
      "text/plain": [
       "DecisionTreeClassifier(random_state=1)"
      ]
     },
     "execution_count": 5,
     "metadata": {},
     "output_type": "execute_result"
    }
   ],
   "source": [
    "\n",
    "#CREATE MODEL\n",
    "\n",
    "\n",
    "from sklearn.tree import DecisionTreeClassifier\n",
    "\n",
    "    \n",
    "# create a Decision Tree Classifier\n",
    "model=DecisionTreeClassifier(random_state=1)\n",
    "\n",
    "# get the diagnosis column, to be used as the classification target\n",
    "train_diagnoses=train_data['diagnosis']\n",
    "# drop the diagnosis column to get only the symptoms\n",
    "train_patient_symptoms=train_data.drop(columns=['diagnosis'])\n",
    "# build a decision tree\n",
    "model.fit(train_patient_symptoms, train_diagnoses)\n",
    "\n",
    "# return the trained model\n",
    " "
   ]
  },
  {
   "cell_type": "code",
   "execution_count": 6,
   "metadata": {
    "scrolled": false
   },
   "outputs": [
    {
     "name": "stdout",
     "output_type": "stream",
     "text": [
      "['allergies' 'covid19' 'allergies' 'flu' 'flu' 'allergies']\n"
     ]
    },
    {
     "data": {
      "text/plain": [
       "0.6666666666666666"
      ]
     },
     "execution_count": 6,
     "metadata": {},
     "output_type": "execute_result"
    }
   ],
   "source": [
    "\n",
    "#TEST DATA\n",
    "\n",
    "\n",
    "# functions used to evaluate a classifier\n",
    "from sklearn.metrics import accuracy_score,confusion_matrix\n",
    "\n",
    "# drop the diagnosis column to get only the symptoms\n",
    "test_patient_symptoms=test_data.drop(columns=['diagnosis'])\n",
    "# get the diagnosis column, to be used as the classification target\n",
    "test_diagnoses=test_data['diagnosis']\n",
    "\n",
    " #guess the most likely diagnoses\n",
    "pred=model.predict(test_patient_symptoms)\n",
    "print(pred)\n",
    "#print the achieved accuracy score\n",
    "accuracy_score(test_diagnoses,pred)\n"
   ]
  },
  {
   "cell_type": "code",
   "execution_count": 7,
   "metadata": {},
   "outputs": [
    {
     "data": {
      "text/plain": [
       "array([[2, 0, 0, 1],\n",
       "       [1, 0, 0, 0],\n",
       "       [0, 0, 1, 0],\n",
       "       [0, 0, 0, 1]], dtype=int64)"
      ]
     },
     "execution_count": 7,
     "metadata": {},
     "output_type": "execute_result"
    }
   ],
   "source": [
    "confusion_matrix(test_diagnoses,pred)"
   ]
  },
  {
   "cell_type": "code",
   "execution_count": null,
   "metadata": {},
   "outputs": [],
   "source": []
  }
 ],
 "metadata": {
  "kernelspec": {
   "display_name": "Python 3",
   "language": "python",
   "name": "python3"
  },
  "language_info": {
   "codemirror_mode": {
    "name": "ipython",
    "version": 3
   },
   "file_extension": ".py",
   "mimetype": "text/x-python",
   "name": "python",
   "nbconvert_exporter": "python",
   "pygments_lexer": "ipython3",
   "version": "3.8.5"
  }
 },
 "nbformat": 4,
 "nbformat_minor": 4
}
