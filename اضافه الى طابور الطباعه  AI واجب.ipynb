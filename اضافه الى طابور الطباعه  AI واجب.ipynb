{
 "cells": [
  {
   "cell_type": "code",
   "execution_count": 1,
   "metadata": {},
   "outputs": [
    {
     "name": "stdout",
     "output_type": "stream",
     "text": [
      "تم اضافه A الى طابور الطباعة\n",
      "تم اضافه B الى طابور الطباعة\n",
      "تم اضافه C الى طابور الطباعة\n",
      "تم اضافه D الى طابور الطباعة\n",
      "تم اضافه E الى طابور الطباعة\n",
      "تم اضافه F الى طابور الطباعة\n",
      "تم اضافه G الى طابور الطباعة\n",
      "تم طباعة A, واضافة H\n",
      "تم طباعة B, واضافة I\n",
      "تم طباعة C, واضافة J\n",
      "\n",
      "الملفات المتبقية في الطابور:\n",
      "تم طباعة D\n",
      "تم طباعة E\n",
      "تم طباعة F\n",
      "تم طباعة G\n",
      "تم طباعة H\n",
      "تم طباعة I\n",
      "تم طباعة J\n",
      "انتهت جميع المهام وشكرا\n"
     ]
    }
   ],
   "source": [
    "from queue import Queue\n",
    "#هنا انشانا طابور ب حجم 7 ملفات\n",
    "Myprinter= Queue(maxsize=7)\n",
    "#هنا اضفنا7 ملفات الئ الطابور تبعنا\n",
    "for file in ['A','B','C','D','E','F','G',]:\n",
    "    Myprinter.put(file)#هاذي الداله تضيف الئ نهايه الطابور بس اذا كان مليان تنتضر لما يفضي مكان \n",
    "    print(f\"تم اضافه {file} الى طابور الطباعة\")\n",
    "    \n",
    "F_add = ['H','I','J']#هنا انشانا ملفات اضافيه نشتي ندخلها بعد امتلا الطابور\n",
    "for N_file in F_add:#هاذي تمر علا الملفات الجديده\n",
    "    printed_file = Myprinter.get()#وهاذي تسحب اول ملف او عنصر يعني اقدم ملف \n",
    "    Myprinter.put(N_file)#ادخال الملف الجديد الئ الطابور  بعد اخراج القديم0\n",
    "    print(f\"تم طباعة {printed_file}, واضافة {N_file}\")#هاذي رساله اي ملف تم طباعته واي ملف جديد تم ادخاله مكانه\n",
    "    \n",
    "\n",
    "print(\"\\nالملفات المتبقية في الطابور:\")\n",
    "while not Myprinter.empty():#هاذي تستمر طالما الطابور مش فارغ \n",
    "    printed_file = Myprinter.get()#هاذي بتسحب الملفات الموجوده حاليا في مقدمه الطابور كامله\n",
    "    print(f\"تم طباعة {printed_file}\")#اخيرا هاذي بتطبع اسم الملف  الذي تم طباعته من الطابور\n",
    "    \n",
    "print(\"انتهت جميع المهام وشكرا\")"
   ]
  },
  {
   "cell_type": "code",
   "execution_count": null,
   "metadata": {},
   "outputs": [],
   "source": []
  }
 ],
 "metadata": {
  "kernelspec": {
   "display_name": "Python 3",
   "language": "python",
   "name": "python3"
  },
  "language_info": {
   "codemirror_mode": {
    "name": "ipython",
    "version": 3
   },
   "file_extension": ".py",
   "mimetype": "text/x-python",
   "name": "python",
   "nbconvert_exporter": "python",
   "pygments_lexer": "ipython3",
   "version": "3.8.5"
  }
 },
 "nbformat": 4,
 "nbformat_minor": 4
}
