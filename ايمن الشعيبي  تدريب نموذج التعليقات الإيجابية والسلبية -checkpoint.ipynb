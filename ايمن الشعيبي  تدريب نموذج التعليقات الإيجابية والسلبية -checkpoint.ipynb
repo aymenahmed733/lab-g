{
 "cells": [
  {
   "cell_type": "code",
   "execution_count": 7,
   "metadata": {},
   "outputs": [
    {
     "name": "stdout",
     "output_type": "stream",
     "text": [
      "Requirement already satisfied: pandas in c:\\users\\zainon\\anaconda3\\lib\\site-packages (1.1.3)\n",
      "Requirement already satisfied: numpy in c:\\users\\zainon\\anaconda3\\lib\\site-packages (1.19.2)\n",
      "Requirement already satisfied: scikit-learn in c:\\users\\zainon\\anaconda3\\lib\\site-packages (0.23.2)\n",
      "Requirement already satisfied: matplotlib in c:\\users\\zainon\\anaconda3\\lib\\site-packages (3.3.2)\n",
      "Requirement already satisfied: seaborn in c:\\users\\zainon\\anaconda3\\lib\\site-packages (0.11.0)\n",
      "Requirement already satisfied: nltk in c:\\users\\zainon\\anaconda3\\lib\\site-packages (3.5)\n",
      "Collecting wordcloud\n",
      "  Downloading wordcloud-1.9.4-cp38-cp38-win_amd64.whl (300 kB)\n",
      "Requirement already satisfied: pytz>=2017.2 in c:\\users\\zainon\\anaconda3\\lib\\site-packages (from pandas) (2020.1)\n",
      "Requirement already satisfied: python-dateutil>=2.7.3 in c:\\users\\zainon\\anaconda3\\lib\\site-packages (from pandas) (2.8.1)\n",
      "Requirement already satisfied: scipy>=0.19.1 in c:\\users\\zainon\\anaconda3\\lib\\site-packages (from scikit-learn) (1.5.2)\n",
      "Requirement already satisfied: joblib>=0.11 in c:\\users\\zainon\\anaconda3\\lib\\site-packages (from scikit-learn) (0.17.0)\n",
      "Requirement already satisfied: threadpoolctl>=2.0.0 in c:\\users\\zainon\\anaconda3\\lib\\site-packages (from scikit-learn) (2.1.0)\n",
      "Requirement already satisfied: kiwisolver>=1.0.1 in c:\\users\\zainon\\anaconda3\\lib\\site-packages (from matplotlib) (1.3.0)\n",
      "Requirement already satisfied: cycler>=0.10 in c:\\users\\zainon\\anaconda3\\lib\\site-packages (from matplotlib) (0.10.0)\n",
      "Requirement already satisfied: pyparsing!=2.0.4,!=2.1.2,!=2.1.6,>=2.0.3 in c:\\users\\zainon\\anaconda3\\lib\\site-packages (from matplotlib) (2.4.7)\n",
      "Requirement already satisfied: pillow>=6.2.0 in c:\\users\\zainon\\anaconda3\\lib\\site-packages (from matplotlib) (8.0.1)\n",
      "Requirement already satisfied: certifi>=2020.06.20 in c:\\users\\zainon\\anaconda3\\lib\\site-packages (from matplotlib) (2020.6.20)\n",
      "Requirement already satisfied: click in c:\\users\\zainon\\anaconda3\\lib\\site-packages (from nltk) (7.1.2)\n",
      "Requirement already satisfied: regex in c:\\users\\zainon\\anaconda3\\lib\\site-packages (from nltk) (2020.10.15)\n",
      "Requirement already satisfied: tqdm in c:\\users\\zainon\\anaconda3\\lib\\site-packages (from nltk) (4.50.2)\n",
      "Requirement already satisfied: six>=1.5 in c:\\users\\zainon\\anaconda3\\lib\\site-packages (from python-dateutil>=2.7.3->pandas) (1.15.0)\n",
      "Installing collected packages: wordcloud\n",
      "Successfully installed wordcloud-1.9.4\n"
     ]
    }
   ],
   "source": [
    "!pip install pandas numpy scikit-learn matplotlib seaborn nltk wordcloud"
   ]
  },
  {
   "cell_type": "code",
   "execution_count": 8,
   "metadata": {},
   "outputs": [
    {
     "name": "stderr",
     "output_type": "stream",
     "text": [
      "[nltk_data] Downloading package stopwords to\n",
      "[nltk_data]     C:\\Users\\Zainon\\AppData\\Roaming\\nltk_data...\n",
      "[nltk_data]   Unzipping corpora\\stopwords.zip.\n"
     ]
    },
    {
     "data": {
      "text/plain": [
       "True"
      ]
     },
     "execution_count": 8,
     "metadata": {},
     "output_type": "execute_result"
    }
   ],
   "source": [
    "import pandas as pd\n",
    "import numpy as np\n",
    "import re\n",
    "import matplotlib.pyplot as plt\n",
    "import seaborn as sns\n",
    "from wordcloud import WordCloud\n",
    "from sklearn.model_selection import train_test_split\n",
    "from sklearn.feature_extraction.text import CountVectorizer, TfidfVectorizer\n",
    "from sklearn.naive_bayes import MultinomialNB\n",
    "from sklearn.metrics import accuracy_score, classification_report, confusion_matrix\n",
    "from sklearn.pipeline import Pipeline\n",
    "import nltk\n",
    "from nltk.corpus import stopwords\n",
    "from nltk.stem import PorterStemmer\n",
    "import joblib\n",
    "\n",
    "# تحميل stopwords\n",
    "nltk.download('stopwords')"
   ]
  },
  {
   "cell_type": "code",
   "execution_count": 47,
   "metadata": {},
   "outputs": [
    {
     "name": "stdout",
     "output_type": "stream",
     "text": [
      " حجم البيانات: (1600000, 6)\n",
      " توزيع المشاعر:\n",
      "4    800000\n",
      "0    800000\n",
      "Name: target, dtype: int64\n"
     ]
    }
   ],
   "source": [
    "\n",
    "file_path = r\"C:\\Users\\Zainon\\Desktop\\API\\training.1600000.processed.noemoticon.csv\"\n",
    "\n",
    "# قراءة البيانات\n",
    "df = pd.read_csv(file_path, encoding='latin-1', header=None)\n",
    "\n",
    "# تسمية الأعمدة\n",
    "df.columns = ['target', 'ids', 'date', 'flag', 'user', 'text']\n",
    "\n",
    "print(f\" حجم البيانات: {df.shape}\")\n",
    "print(\" توزيع المشاعر:\")\n",
    "print(df['target'].value_counts())"
   ]
  },
  {
   "cell_type": "code",
   "execution_count": 48,
   "metadata": {},
   "outputs": [
    {
     "name": "stdout",
     "output_type": "stream",
     "text": [
      " حجم العينة: (800000, 6)\n",
      " توزيع المشاعر في العينة:\n",
      "0    400212\n",
      "4    399788\n",
      "Name: target, dtype: int64\n"
     ]
    }
   ],
   "source": [
    "# أخذ عينة 10% من البيانات للتدريب السريع\n",
    "df_sample = df.sample(frac=0.5, random_state=42, replace=False)\n",
    "\n",
    "print(f\" حجم العينة: {df_sample.shape}\")\n",
    "print(\" توزيع المشاعر في العينة:\")\n",
    "print(df_sample['target'].value_counts())"
   ]
  },
  {
   "cell_type": "code",
   "execution_count": 49,
   "metadata": {},
   "outputs": [
    {
     "name": "stdout",
     "output_type": "stream",
     "text": [
      " تم تنظيف النص بنجاح!\n",
      " عدد التغريدات بعد التنظيف: 795982\n"
     ]
    }
   ],
   "source": [
    "# استخدام stopwords\n",
    "stop_words = set(stopwords.words('english'))\n",
    "\n",
    "def fast_clean_text(text):\n",
    "    \"\"\"\n",
    "    تنظيف سريع للنص بدون عمليات معقدة\n",
    "    \"\"\"\n",
    "    if isinstance(text, str):\n",
    "        # إزالة الروابط وعلامات التصنيف\n",
    "        text = re.sub(r'http\\S+|@\\w+|#\\w+', '', text)\n",
    "        # إزالة الأحرف الخاصة\n",
    "        text = re.sub(r'[^a-zA-Z\\s]', '', text)\n",
    "        # تحويل إلى أحرف صغيرة\n",
    "        text = text.lower()\n",
    "        # إزالة stopwords\n",
    "        words = [word for word in text.split() if word not in stop_words]\n",
    "        return ' '.join(words)\n",
    "    return ''\n",
    "\n",
    "# تطبيق التنظيف\n",
    "df_sample['cleaned_text'] = df_sample['text'].apply(fast_clean_text)\n",
    "\n",
    "# إزالة الصفوف الفارغة\n",
    "df_sample = df_sample[df_sample['cleaned_text'].str.len() > 0]\n",
    "\n",
    "print(\" تم تنظيف النص بنجاح!\")\n",
    "print(f\" عدد التغريدات بعد التنظيف: {len(df_sample)}\")"
   ]
  },
  {
   "cell_type": "code",
   "execution_count": 50,
   "metadata": {},
   "outputs": [
    {
     "name": "stdout",
     "output_type": "stream",
     "text": [
      " توزيع المشاعر بعد التحويل:\n",
      "0    398354\n",
      "1    397628\n",
      "Name: sentiment, dtype: int64\n"
     ]
    }
   ],
   "source": [
    "# تحويل التسميات (0 = negative, 4 = positive)\n",
    "df_sample['sentiment'] = df_sample['target'].apply(lambda x: 0 if x == 0 else 1)\n",
    "\n",
    "print(\" توزيع المشاعر بعد التحويل:\")\n",
    "print(df_sample['sentiment'].value_counts())"
   ]
  },
  {
   "cell_type": "code",
   "execution_count": 51,
   "metadata": {},
   "outputs": [
    {
     "name": "stdout",
     "output_type": "stream",
     "text": [
      " بيانات التدريب: 636785\n",
      " بيانات الاختبار: 159197\n"
     ]
    }
   ],
   "source": [
    "# تقسيم البيانات\n",
    "X = df_sample['cleaned_text']\n",
    "y = df_sample['sentiment']\n",
    "\n",
    "X_train, X_test, y_train, y_test = train_test_split(\n",
    "    X, y, test_size=0.2, random_state=42, stratify=y\n",
    ")\n",
    "\n",
    "print(f\" بيانات التدريب: {X_train.shape[0]}\")\n",
    "print(f\" بيانات الاختبار: {X_test.shape[0]}\")"
   ]
  },
  {
   "cell_type": "code",
   "execution_count": 52,
   "metadata": {},
   "outputs": [
    {
     "name": "stdout",
     "output_type": "stream",
     "text": [
      " جاري تدريب النموذج...\n",
      " تم تدريب النموذج بنجاح!\n"
     ]
    }
   ],
   "source": [
    "#  Pipeline لتبسيط العملية\n",
    "pipeline = Pipeline([\n",
    "    ('vectorizer', CountVectorizer(\n",
    "        max_features=5000,\n",
    "        ngram_range=(1, 2),\n",
    "        min_df=2,\n",
    "        max_df=0.8\n",
    "    )),\n",
    "    ('classifier', MultinomialNB(alpha=0.1))\n",
    "])\n",
    "\n",
    "# تدريب النموذج\n",
    "print(\" جاري تدريب النموذج...\")\n",
    "pipeline.fit(X_train, y_train)\n",
    "print(\" تم تدريب النموذج بنجاح!\")"
   ]
  },
  {
   "cell_type": "code",
   "execution_count": 53,
   "metadata": {},
   "outputs": [
    {
     "data": {
      "image/png": "[encoded data removed]",
      "text/plain": [
       "<Figure size 576x432 with 2 Axes>"
      ]
     },
     "metadata": {
      "needs_background": "light"
     },
     "output_type": "display_data"
    }
   ],
   "source": [
    "import matplotlib.pyplot as plt\n",
    "import seaborn as sns\n",
    "from sklearn.metrics import confusion_matrix\n",
    "\n",
    "# Confusion matrix\n",
    "cm = confusion_matrix(y_test, y_pred)\n",
    "\n",
    "# Plotting\n",
    "plt.figure(figsize=(8, 6))\n",
    "sns.heatmap(cm, annot=True, fmt='d', cmap='YlGnBu',     \n",
    "            xticklabels=['Negative', 'Neutral', 'Positive'],\n",
    "            yticklabels=['Negative', 'Neutral', 'Positive'],\n",
    "            linewidths=1, linecolor='gray', cbar=True, square=True)\n",
    "plt.title('مصفوفة الارتباك للمشاعر الثلاثية')\n",
    "plt.ylabel('القيم الحقيقية')\n",
    "plt.xlabel('القيم المتوقعة')\n",
    "\n",
    "# Show the plot\n",
    "plt.show()\n"
   ]
  },
  {
   "cell_type": "code",
   "execution_count": 54,
   "metadata": {},
   "outputs": [
    {
     "name": "stdout",
     "output_type": "stream",
     "text": [
      " تم حفظ النموذج بنجاح!\n"
     ]
    }
   ],
   "source": [
    "# حفظ النموذج\n",
    "joblib.dump(pipeline, 'sentiment_analysis_model.pkl')\n",
    "\n",
    "# حفظ المتجه\n",
    "joblib.dump(pipeline.named_steps['vectorizer'], 'vectorizer.pkl')\n",
    "\n",
    "print(\" تم حفظ النموذج بنجاح!\")"
   ]
  },
  {
   "cell_type": "code",
   "execution_count": 35,
   "metadata": {},
   "outputs": [
    {
     "name": "stdout",
     "output_type": "stream",
     "text": [
      "\n",
      " اختبار النموذج على أمثلة:\n",
      "============================================================\n",
      "\n",
      "العينة 1:\n",
      "النص      : I love this product! It's amazing!\n",
      "المشاعر   : إيجابي\n",
      "الثقة     : 96.4%\n",
      "الاحتمالات:\n",
      "  - سلبي  : 0.036\n",
      "  - إيجابي : 0.964\n",
      "------------------------------------------------------------\n",
      "\n",
      "العينة 2:\n",
      "النص      : This is terrible and I hate it.\n",
      "المشاعر   : سلبي\n",
      "الثقة     : 97.1%\n",
      "الاحتمالات:\n",
      "  - سلبي  : 0.971\n",
      "  - إيجابي : 0.029\n",
      "------------------------------------------------------------\n",
      "\n",
      "العينة 3:\n",
      "النص      : The weather is nice today\n",
      "المشاعر   : إيجابي\n",
      "الثقة     : 64.3%\n",
      "الاحتمالات:\n",
      "  - سلبي  : 0.357\n",
      "  - إيجابي : 0.643\n",
      "------------------------------------------------------------\n",
      "\n",
      "العينة 4:\n",
      "النص      : I'm feeling so sad and disappointed\n",
      "المشاعر   : سلبي\n",
      "الثقة     : 99.8%\n",
      "الاحتمالات:\n",
      "  - سلبي  : 0.998\n",
      "  - إيجابي : 0.002\n",
      "------------------------------------------------------------\n",
      "\n",
      "العينة 5:\n",
      "النص      : Great service and excellent quality!\n",
      "المشاعر   : إيجابي\n",
      "الثقة     : 96.7%\n",
      "الاحتمالات:\n",
      "  - سلبي  : 0.033\n",
      "  - إيجابي : 0.967\n",
      "------------------------------------------------------------\n",
      "\n",
      "العينة 6:\n",
      "النص      : This movie is absolutely wonderful\n",
      "المشاعر   : إيجابي\n",
      "الثقة     : 95.2%\n",
      "الاحتمالات:\n",
      "  - سلبي  : 0.048\n",
      "  - إيجابي : 0.952\n",
      "------------------------------------------------------------\n",
      "\n",
      "العينة 7:\n",
      "النص      : I hate waiting in long lines\n",
      "المشاعر   : سلبي\n",
      "الثقة     : 83.6%\n",
      "الاحتمالات:\n",
      "  - سلبي  : 0.836\n",
      "  - إيجابي : 0.164\n",
      "------------------------------------------------------------\n",
      "\n",
      "العينة 8:\n",
      "النص      : The food was delicious and the service was perfect\n",
      "المشاعر   : إيجابي\n",
      "الثقة     : 88.9%\n",
      "الاحتمالات:\n",
      "  - سلبي  : 0.111\n",
      "  - إيجابي : 0.889\n",
      "------------------------------------------------------------\n"
     ]
    }
   ],
   "source": [
    "def predict_sentiment(text, model):\n",
    "    \"\"\"\n",
    "    توقع مشاعر نص معين\n",
    "    \"\"\"\n",
    "    prediction = model.predict([text])[0]\n",
    "    probability = model.predict_proba([text])[0]\n",
    "    \n",
    "    sentiment = \"إيجابي\" if prediction == 1 else \"سلبي\"\n",
    "    confidence = probability[prediction] * 100\n",
    "    \n",
    "    return sentiment, confidence, probability\n",
    "\n",
    "# أمثلة للاختبار\n",
    "test_samples = [\n",
    "    \"I love this product! It's amazing!\",\n",
    "    \"This is terrible and I hate it.\",\n",
    "    \"The weather is nice today\",\n",
    "    \"I'm feeling so sad and disappointed\",\n",
    "    \"Great service and excellent quality!\",\n",
    "    \"This movie is absolutely wonderful\",\n",
    "    \"I hate waiting in long lines\",\n",
    "    \"The food was delicious and the service was perfect\"\n",
    "]\n",
    "\n",
    "print(\"\\n اختبار النموذج على أمثلة:\\n\" + \"=\"*60)\n",
    "\n",
    "for i, text in enumerate(test_samples, 1):\n",
    "    sentiment, confidence, prob = predict_sentiment(text, pipeline)\n",
    "    \n",
    "    print(f\"\\nالعينة {i}:\")\n",
    "    print(f\"النص      : {text}\")\n",
    "    print(f\"المشاعر   : {sentiment}\")\n",
    "    print(f\"الثقة     : {confidence:.1f}%\")\n",
    "    print(f\"الاحتمالات:\")\n",
    "    print(f\"  - سلبي  : {prob[0]:.3f}\")\n",
    "    print(f\"  - إيجابي : {prob[1]:.3f}\")\n",
    "    print(\"-\"*60)\n"
   ]
  },
  {
   "cell_type": "code",
   "execution_count": 34,
   "metadata": {},
   "outputs": [
    {
     "name": "stdout",
     "output_type": "stream",
     "text": [
      " أهم 10 كلمات للإيجابية:\n",
      "   im: -4.168\n",
      "   good: -4.373\n",
      "   love: -4.639\n",
      "   day: -4.668\n",
      "   like: -4.874\n",
      "   get: -4.897\n",
      "   thanks: -4.973\n",
      "   lol: -4.976\n",
      "   going: -5.068\n",
      "   time: -5.095\n",
      "\n",
      " أهم 10 كلمات للسلبية:\n",
      "   im: -3.944\n",
      "   get: -4.766\n",
      "   dont: -4.768\n",
      "   go: -4.783\n",
      "   work: -4.790\n",
      "   cant: -4.798\n",
      "   like: -4.878\n",
      "   day: -4.910\n",
      "   today: -4.989\n",
      "   going: -5.077\n"
     ]
    }
   ],
   "source": [
    "#  تحليل الكلمات المهمة\n",
    "vectorizer = pipeline.named_steps['vectorizer']\n",
    "classifier = pipeline.named_steps['classifier']\n",
    "\n",
    "# استخدام get_feature_names() بدلاً من get_feature_names_out()\n",
    "try:\n",
    "    # للإصدارات الحديثة\n",
    "    feature_names = vectorizer.get_feature_names_out()\n",
    "except AttributeError:\n",
    "    # للإصدارات القديمة\n",
    "    feature_names = vectorizer.get_feature_names()\n",
    "\n",
    "# أهم الكلمات للتصنيف الإيجابي\n",
    "positive_indices = classifier.feature_log_prob_[1].argsort()[-20:][::-1]\n",
    "print(\" أهم 10 كلمات للإيجابية:\")\n",
    "for idx in positive_indices[:10]:\n",
    "    print(f\"   {feature_names[idx]}: {classifier.feature_log_prob_[1][idx]:.3f}\")\n",
    "\n",
    "print()\n",
    "\n",
    "# أهم الكلمات للتصنيف السلبي\n",
    "negative_indices = classifier.feature_log_prob_[0].argsort()[-20:][::-1]\n",
    "print(\" أهم 10 كلمات للسلبية:\")\n",
    "for idx in negative_indices[:10]:\n",
    "    print(f\"   {feature_names[idx]}: {classifier.feature_log_prob_[0][idx]:.3f}\")"
   ]
  },
  {
   "cell_type": "code",
   "execution_count": null,
   "metadata": {},
   "outputs": [],
   "source": []
  }
 ],
 "metadata": {
  "kernelspec": {
   "display_name": "Python 3",
   "language": "python",
   "name": "python3"
  },
  "language_info": {
   "codemirror_mode": {
    "name": "ipython",
    "version": 3
   },
   "file_extension": ".py",
   "mimetype": "text/x-python",
   "name": "python",
   "nbconvert_exporter": "python",
   "pygments_lexer": "ipython3",
   "version": "3.8.5"
  }
 },
 "nbformat": 4,
 "nbformat_minor": 4
}
