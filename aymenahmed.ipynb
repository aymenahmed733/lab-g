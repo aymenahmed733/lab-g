{
 "cells": [
  {
   "cell_type": "code",
   "execution_count": 2,
   "metadata": {},
   "outputs": [
    {
     "ename": "ModuleNotFoundError",
     "evalue": "No module named 'imblearn'",
     "output_type": "error",
     "traceback": [
      "\u001b[1;31m---------------------------------------------------------------------------\u001b[0m",
      "\u001b[1;31mModuleNotFoundError\u001b[0m                       Traceback (most recent call last)",
      "\u001b[1;32m<ipython-input-2-7692333b3cf7>\u001b[0m in \u001b[0;36m<module>\u001b[1;34m\u001b[0m\n\u001b[0;32m      4\u001b[0m \u001b[1;32mfrom\u001b[0m \u001b[0msklearn\u001b[0m\u001b[1;33m.\u001b[0m\u001b[0mnaive_bayes\u001b[0m \u001b[1;32mimport\u001b[0m \u001b[0mMultinomialNB\u001b[0m\u001b[1;33m\u001b[0m\u001b[1;33m\u001b[0m\u001b[0m\n\u001b[0;32m      5\u001b[0m \u001b[1;32mfrom\u001b[0m \u001b[0msklearn\u001b[0m\u001b[1;33m.\u001b[0m\u001b[0mmetrics\u001b[0m \u001b[1;32mimport\u001b[0m \u001b[0maccuracy_score\u001b[0m\u001b[1;33m,\u001b[0m \u001b[0mclassification_report\u001b[0m\u001b[1;33m\u001b[0m\u001b[1;33m\u001b[0m\u001b[0m\n\u001b[1;32m----> 6\u001b[1;33m \u001b[1;32mfrom\u001b[0m \u001b[0mimblearn\u001b[0m\u001b[1;33m.\u001b[0m\u001b[0mover_sampling\u001b[0m \u001b[1;32mimport\u001b[0m \u001b[0mRandomOverSampler\u001b[0m\u001b[1;33m\u001b[0m\u001b[1;33m\u001b[0m\u001b[0m\n\u001b[0m\u001b[0;32m      7\u001b[0m \u001b[1;33m\u001b[0m\u001b[0m\n\u001b[0;32m      8\u001b[0m \u001b[1;31m# 1. قراءة الملف\u001b[0m\u001b[1;33m\u001b[0m\u001b[1;33m\u001b[0m\u001b[1;33m\u001b[0m\u001b[0m\n",
      "\u001b[1;31mModuleNotFoundError\u001b[0m: No module named 'imblearn'"
     ]
    }
   ],
   "source": [
    "import pandas as pd\n",
    "from sklearn.model_selection import train_test_split\n",
    "from sklearn.feature_extraction.text import TfidfVectorizer\n",
    "from sklearn.naive_bayes import MultinomialNB\n",
    "from sklearn.metrics import accuracy_score, classification_report\n",
    "from imblearn.over_sampling import RandomOverSampler\n",
    "\n",
    "# 1. قراءة الملف\n",
    "df = pd.read_csv(\"CompanyReviews.csv\")\n",
    "\n",
    "# 2. اختيار النصوص والتصنيف\n",
    "X = df['review_description'].astype(str)\n",
    "y = df['rating']\n",
    "\n",
    "# 3. تحويل النصوص إلى تمثيل عددي TF-IDF\n",
    "vectorizer = TfidfVectorizer(max_features=5000)\n",
    "X_tfidf = vectorizer.fit_transform(X)\n",
    "\n",
    "# 4. إعادة توازن البيانات (عشان الفئة المحايدة قليلة)\n",
    "ros = RandomOverSampler(random_state=42)\n",
    "X_resampled, y_resampled = ros.fit_resample(X_tfidf, y)\n",
    "\n",
    "# 5. تقسيم البيانات تدريب/اختبار\n",
    "X_train, X_test, y_train, y_test = train_test_split(\n",
    "    X_resampled, y_resampled, test_size=0.2, random_state=42\n",
    ")\n",
    "\n",
    "# 6. تدريب نموذج Naive Bayes\n",
    "model = MultinomialNB()\n",
    "model.fit(X_train, y_train)\n",
    "\n",
    "# 7. التنبؤ\n",
    "y_pred = model.predict(X_test)\n",
    "\n",
    "# 8. التقييم\n",
    "accuracy = accuracy_score(y_test, y_pred)\n",
    "report = classification_report(y_test, y_pred, digits=3)\n",
    "\n",
    "print(\"✅ دقة النموذج:\", accuracy)\n",
    "print(\"\\n📊 تقرير التصنيف:\\n\", report)\n"
   ]
  },
  {
   "cell_type": "code",
   "execution_count": 3,
   "metadata": {},
   "outputs": [
    {
     "name": "stdout",
     "output_type": "stream",
     "text": [
      "✅ دقة النموذج: 0.8668852459016393\n",
      "\n",
      "📊 تقرير التصنيف:\n",
      "               precision    recall  f1-score   support\n",
      "\n",
      "          -1      0.851     0.782     0.815      2857\n",
      "           1      0.875     0.918     0.896      4768\n",
      "\n",
      "    accuracy                          0.867      7625\n",
      "   macro avg      0.863     0.850     0.855      7625\n",
      "weighted avg      0.866     0.867     0.866      7625\n",
      "\n",
      "\n",
      "🔍 التنبؤ للجمل الجديدة: [('البرنامج سيء جدا', -1), ('الخدمة ممتازة ورائعة', 1)]\n"
     ]
    }
   ],
   "source": [
    "import pandas as pd\n",
    "from sklearn.model_selection import train_test_split\n",
    "from sklearn.feature_extraction.text import TfidfVectorizer\n",
    "from sklearn.naive_bayes import MultinomialNB\n",
    "from sklearn.metrics import accuracy_score, classification_report\n",
    "\n",
    "# 1. قراءة الملف\n",
    "df = pd.read_csv(\"CompanyReviews.csv\")\n",
    "\n",
    "# 2. اختيار النصوص والتصنيف (تجاهل المحايد 0)\n",
    "df_binary = df[df['rating'] != 0]\n",
    "X = df_binary['review_description'].astype(str)\n",
    "y = df_binary['rating']\n",
    "\n",
    "# 3. تقسيم البيانات تدريب/اختبار\n",
    "X_train, X_test, y_train, y_test = train_test_split(\n",
    "    X, y, test_size=0.2, random_state=42\n",
    ")\n",
    "\n",
    "# 4. تحويل النصوص إلى تمثيل عددي TF-IDF\n",
    "vectorizer = TfidfVectorizer(max_features=5000)\n",
    "X_train_tfidf = vectorizer.fit_transform(X_train)\n",
    "X_test_tfidf = vectorizer.transform(X_test)\n",
    "\n",
    "# 5. تدريب نموذج Naive Bayes\n",
    "model = MultinomialNB()\n",
    "model.fit(X_train_tfidf, y_train)\n",
    "\n",
    "# 6. التنبؤ\n",
    "y_pred = model.predict(X_test_tfidf)\n",
    "\n",
    "# 7. التقييم\n",
    "accuracy = accuracy_score(y_test, y_pred)\n",
    "report = classification_report(y_test, y_pred, digits=3)\n",
    "\n",
    "print(\"✅ دقة النموذج:\", accuracy)\n",
    "print(\"\\n📊 تقرير التصنيف:\\n\", report)\n",
    "\n",
    "# 8. تجربة جملة جديدة\n",
    "example = [\"البرنامج سيء جدا\", \"الخدمة ممتازة ورائعة\"]\n",
    "example_tfidf = vectorizer.transform(example)\n",
    "pred = model.predict(example_tfidf)\n",
    "print(\"\\n🔍 التنبؤ للجمل الجديدة:\", list(zip(example, pred)))\n"
   ]
  },
  {
   "cell_type": "code",
   "execution_count": null,
   "metadata": {},
   "outputs": [],
   "source": []
  }
 ],
 "metadata": {
  "kernelspec": {
   "display_name": "Python 3",
   "language": "python",
   "name": "python3"
  },
  "language_info": {
   "codemirror_mode": {
    "name": "ipython",
    "version": 3
   },
   "file_extension": ".py",
   "mimetype": "text/x-python",
   "name": "python",
   "nbconvert_exporter": "python",
   "pygments_lexer": "ipython3",
   "version": "3.8.5"
  }
 },
 "nbformat": 4,
 "nbformat_minor": 4
}
